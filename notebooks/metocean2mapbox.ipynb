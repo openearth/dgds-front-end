{
 "cells": [
  {
   "cell_type": "code",
   "execution_count": 38,
   "metadata": {},
   "outputs": [],
   "source": [
    "import geojson\n",
    "import netCDF4\n"
   ]
  },
  {
   "cell_type": "code",
   "execution_count": 39,
   "metadata": {},
   "outputs": [],
   "source": [
    "file = 'p:\\metocean-data\\open\\ERA5\\data\\Global\\output\\percentiles\\Percentiles.nc'\n",
    "# file = 'Percentiles.nc'"
   ]
  },
  {
   "cell_type": "code",
   "execution_count": 40,
   "metadata": {},
   "outputs": [
    {
     "name": "stdout",
     "output_type": "stream",
     "text": [
      "odict_keys(['lat', 'lon'])\n",
      "odict_keys(['lat', 'lon', 'percentile_50', 'percentile_90'])\n"
     ]
    }
   ],
   "source": [
    "dataset = netCDF4.Dataset(file)\n",
    "print(dataset.dimensions.keys())\n",
    "print(dataset.variables.keys())"
   ]
  },
  {
   "cell_type": "code",
   "execution_count": 56,
   "metadata": {
    "scrolled": true
   },
   "outputs": [],
   "source": [
    "# geojson lon, lat\n",
    "features = []\n",
    "\n",
    "for lat, lon in zip(dataset['lon'][:], dataset['lat'][:]):\n",
    "    point = geojson.Point((float(lon), float(lat)))\n",
    "    feature = geojson.Feature(geometry=point)\n",
    "    feature['locationId'] = \"{0:.2f}E_{1:.2f}N\".format(lat, lon)\n",
    "    feature['quantities'] = ['windrose']\n",
    "    features.append(feature)\n",
    "\n",
    "# store the features\n",
    "collection = geojson.FeatureCollection(features)\n",
    "with open('metocean.geojson', 'w') as f:\n",
    "    geojson.dump(collection, f)\n"
   ]
  }
 ],
 "metadata": {
  "kernelspec": {
   "display_name": "Python 3",
   "language": "python",
   "name": "python3"
  },
  "language_info": {
   "codemirror_mode": {
    "name": "ipython",
    "version": 3
   },
   "file_extension": ".py",
   "mimetype": "text/x-python",
   "name": "python",
   "nbconvert_exporter": "python",
   "pygments_lexer": "ipython3",
   "version": "3.6.1"
  }
 },
 "nbformat": 4,
 "nbformat_minor": 2
}
